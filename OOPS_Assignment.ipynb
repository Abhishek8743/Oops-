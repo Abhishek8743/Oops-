{
  "nbformat": 4,
  "nbformat_minor": 0,
  "metadata": {
    "colab": {
      "provenance": []
    },
    "kernelspec": {
      "name": "python3",
      "display_name": "Python 3"
    },
    "language_info": {
      "name": "python"
    }
  },
  "cells": [
    {
      "cell_type": "markdown",
      "source": [
        "#Python OOPs Questions"
      ],
      "metadata": {
        "id": "V1k55KhemKlr"
      }
    },
    {
      "cell_type": "markdown",
      "source": [
        "1.What is Object-Oriented Programming (OOP) ?\n",
        "            •Object-Oriented Programming (OOP) is a programming paradigm based on the concept of \"objects\", which can contain data and code to manipulate that data ."
      ],
      "metadata": {
        "id": "hAxaQaA6X_n4"
      }
    },
    {
      "cell_type": "markdown",
      "source": [
        "2. What is a class in OOP ?\n",
        " •In object-oriented programming, a class is a blueprint for creating objects (a particular data structure), providing initial values for state (member variables or attributes), and implementations of behavior (member functions or methods)."
      ],
      "metadata": {
        "id": "7e44fz3UY0jY"
      }
    },
    {
      "cell_type": "markdown",
      "source": [
        "3. What is an object in OOP ?\n",
        "  •In object-oriented programming, an object is an instance of a class. It is a concrete realization of the blueprint defined by the class, with specific values for its attributes and the ability to perform the actions (methods) defined in the class."
      ],
      "metadata": {
        "id": "LsGJ9fXsZQAN"
      }
    },
    {
      "cell_type": "markdown",
      "source": [
        "4. What is the difference between abstraction and encapsulation ?\n",
        "    •  Abstraction focuses on hiding complexity by showing only the essential features of an object, while encapsulation bundles data and the methods that operate on that data within a single unit (a class), controlling access to the data and preventing direct manipulation."
      ],
      "metadata": {
        "id": "pXvOLwp-Zeoh"
      }
    },
    {
      "cell_type": "markdown",
      "metadata": {
        "id": "ohnIpS19jgB_"
      },
      "source": [
        "5. What are dunder methods in Python ?\n",
        "Dunder methods, also known as magic methods, are special methods in Python that have double underscores at the beginning and end of their names (e.g., `__init__`, `__str__`). They are not meant to be invoked directly by the programmer, but rather by the Python interpreter in response to certain operations. These methods allow you to define how objects of your classes behave with respect to built-in Python operations and functions.\n",
        "\n",
        "For example:\n",
        "- `__init__`: Called when an object is created (the constructor).\n",
        "- `__str__`: Called when you use the `str()` function or `print()` on an object.\n",
        "- `__add__`: Called when you use the `+` operator on objects."
      ]
    },
    {
      "cell_type": "markdown",
      "source": [
        "\n",
        "6. Explain the concept of inheritance in OOP .\n",
        "\n",
        ". Inheritance in Object-Oriented Programming (OOP) is a feature that allows a class (child class) to acquire properties and behaviors (methods and attributes) from another class (parent class). It promotes code reuse and helps create a logical class hierarchy."
      ],
      "metadata": {
        "id": "tL5fu0LHaDC0"
      }
    },
    {
      "cell_type": "markdown",
      "metadata": {
        "id": "8021bd69"
      },
      "source": [
        "7. What is polymorphism in OOp ?\n",
        ". Polymorphism means \"many forms.\" In OOP, it refers to the ability of objects of different classes to respond to the same method call in their own way. This allows you to treat objects of different classes in a uniform manner, as long as they share a common superclass or implement a common interface."
      ]
    },
    {
      "cell_type": "markdown",
      "metadata": {
        "id": "a9da7ae3"
      },
      "source": [
        "8. How is encapsulation achieved in Python ?\n",
        ". While Python doesn't have strict access modifiers like `public`, `private`, or `protected` as found in some other languages (like Java or C++), encapsulation is achieved through conventions and name mangling.\n",
        "\n",
        "- **Conventions:** By convention, a single underscore prefix (e.g., `_variable`) indicates that a variable or method is intended for internal use within the class (protected). Users of the class are expected to respect this convention and not access or modify these members directly from outside the class.\n",
        "- **Name Mangling:** A double underscore prefix (e.g., `__variable`) triggers name mangling. This means the Python interpreter changes the name of the variable or method internally (e.g., to `_ClassName__variable`). While not true privacy, it makes it harder for external code to directly access these members and is primarily used to prevent naming conflicts in inheritance.\n",
        "\n",
        "Encapsulation is also achieved by bundling data (attributes) and the methods that operate on that data within a class. Access to the data is typically provided through getter and setter methods, allowing for control and validation of data."
      ]
    },
    {
      "cell_type": "markdown",
      "metadata": {
        "id": "941e16cf"
      },
      "source": [
        "9. What is a constructor in Python ?\n",
        ". In Python, a constructor is a special method called `__init__` that is automatically called when an object of a class is created. Its primary purpose is to initialize the attributes (data) of the object with the values provided during object creation. It can also perform any setup or configuration needed for the object."
      ]
    },
    {
      "cell_type": "markdown",
      "metadata": {
        "id": "22907aad"
      },
      "source": [
        "10. What are class and static methods in Python ?\n",
        ". In Python, class methods and static methods are alternative ways to define methods within a class that operate on the class itself or don't depend on the instance or class state, respectively.\n",
        "\n",
        "- **Class Methods**: These methods are bound to the class and receive the class itself as the first argument, conventionally named `cls`. They are defined using the `@classmethod` decorator. Class methods are often used for factory methods that create instances of the class in different ways, or to access or modify class-level attributes.\n",
        "\n",
        "- **Static Methods**: These methods are not bound to either the instance or the class. They do not receive an implicit first argument (like `self` or `cls`). They are defined using the `@staticmethod` decorator. Static methods are essentially regular functions that are logically grouped within a class, often because they relate to the class's functionality but don't need access to the instance or class state. They are typically used for utility functions."
      ]
    },
    {
      "cell_type": "markdown",
      "metadata": {
        "id": "99e36926"
      },
      "source": [
        "11. What is method overloading in Python ?\n",
        ". Method overloading is a concept where a class can have multiple methods with the same name but different parameters. However, Python does not support method overloading in the same way that some other languages (like Java or C++) do. If you define multiple methods with the same name in a Python class, the last one defined will override the previous ones.\n",
        "\n",
        "To achieve similar functionality in Python, you can use:\n",
        "\n",
        "- **Default arguments:** Define optional parameters with default values.\n",
        "- **Variable-length arguments:** Use `*args` for non-keyword arguments and `**kwargs` for keyword arguments to handle a variable number of arguments.\n",
        "- **Type checking and conditional logic:** Check the type and number of arguments within a single method and perform different actions accordingly."
      ]
    },
    {
      "cell_type": "markdown",
      "metadata": {
        "id": "945a0e6d"
      },
      "source": [
        "12. What is method overriding in OOP ?\n",
        "Method overriding is a feature in object-oriented programming that allows a subclass or child class to provide a specific implementation for a method that is already defined in its superclass or parent class. When a method is overridden, the version of the method in the subclass is executed when called on an object of the subclass, instead of the version in the superclass. This allows for specific behavior in the child class while still maintaining a common method name defined in the parent class."
      ]
    },
    {
      "cell_type": "markdown",
      "metadata": {
        "id": "f3df38b0"
      },
      "source": [
        "13.What is a property decorator in Python ?\n",
        "\n",
        "In Python, the `@property` decorator is a built-in decorator that allows you to define methods in a class that can be accessed like attributes. It provides a convenient way to manage the getting, setting, and deleting of attribute values, often used to encapsulate the logic around accessing or modifying an object's data.\n",
        "\n",
        "Using `@property`, you can:\n",
        "\n",
        "- **Create getter methods:** A method decorated with `@property` becomes a getter for a property with the same name.\n",
        "- **Define setter methods:** You can define a corresponding setter method using the `@property_name.setter` decorator to control how an attribute's value is set.\n",
        "- **Define deleter methods:** Similarly, you can define a deleter method using the `@property_name.deleter` decorator to control what happens when an attribute is deleted.\n",
        "\n",
        "This allows you to add validation, computation, or other logic when accessing or modifying attribute values, while still maintaining a simple attribute-like syntax for users of the class."
      ]
    },
    {
      "cell_type": "markdown",
      "source": [
        "14 . Why is polymorphism important in OOP ?"
      ],
      "metadata": {
        "id": "DPhgO2WJd5X7"
      }
    },
    {
      "cell_type": "markdown",
      "metadata": {
        "id": "21725c65"
      },
      "source": [
        "Polymorphism is important in OOP for several reasons:\n",
        "\n",
        "- **Code Reusability:** It allows you to write code that can work with objects of different types, as long as they share a common interface or superclass. This reduces the need to write repetitive code for different types.\n",
        "- **Flexibility and Extensibility:** You can easily add new classes that inherit from a common superclass and use them with existing code without modification. This makes your code more flexible and easier to extend.\n",
        "- **Maintainability:** Polymorphism simplifies code by allowing you to work with objects at a higher level of abstraction. This makes the code easier to understand and maintain.\n",
        "- **Decoupling:** It helps decouple the calling code from the specific implementation details of the objects being called. This means changes to the implementation of one class are less likely to affect other parts of the code."
      ]
    },
    {
      "cell_type": "markdown",
      "source": [
        "15.  What is an abstract class in Python ?"
      ],
      "metadata": {
        "id": "s2WKZTLzeH0u"
      }
    },
    {
      "cell_type": "markdown",
      "metadata": {
        "id": "4cbcc1e8"
      },
      "source": [
        "An abstract class is a class that cannot be instantiated directly. It is designed to be a blueprint for other classes, providing a common interface or defining methods that must be implemented by its subclasses. Abstract classes are used to define a common structure and behavior for a group of related classes.\n",
        "\n",
        "In Python, you can create abstract classes using the `abc` module (Abstract Base Classes). You define abstract methods within an abstract class using the `@abstractmethod` decorator. Subclasses that inherit from an abstract class must implement all of its abstract methods; otherwise, they cannot be instantiated."
      ]
    },
    {
      "cell_type": "markdown",
      "source": [
        "16.  What are the advantages of OOp ?\n",
        "."
      ],
      "metadata": {
        "id": "5Ufn7pHVeRxu"
      }
    },
    {
      "cell_type": "markdown",
      "metadata": {
        "id": "0201fe78"
      },
      "source": [
        "Some of the key advantages of Object-Oriented Programming (OOP) include:\n",
        "\n",
        "*   **Modularity:** OOP allows you to break down complex systems into smaller, self-contained objects, making the code more organized and easier to understand and manage.\n",
        "*   **Reusability:** Through inheritance, you can create new classes that reuse the properties and behaviors of existing classes, reducing code duplication and development time.\n",
        "*   **Maintainability:** The modular and organized nature of OOP makes it easier to modify and update code. Changes in one part of the system are less likely to affect other parts.\n",
        "*   **Flexibility:** Polymorphism allows you to write code that can work with objects of different types, providing greater flexibility and making it easier to extend the system.\n",
        "*   **Abstraction:** OOP helps in hiding complex implementation details and showing only the essential features, making the code easier to use and understand.\n",
        "*   **Security (through encapsulation):** Encapsulation helps in protecting data from accidental modification by bundling data and methods within a class and controlling access to the data."
      ]
    },
    {
      "cell_type": "markdown",
      "source": [
        "17. What is the difference between a class variable and an instance variable ?"
      ],
      "metadata": {
        "id": "4hsOlqWled6t"
      }
    },
    {
      "cell_type": "markdown",
      "metadata": {
        "id": "c9555e0b"
      },
      "source": [
        "In Python, there are two main types of variables within a class:\n",
        "\n",
        "*   **Class Variables:** These variables are defined directly within the class but outside of any methods. They are shared among all instances (objects) of the class. If you change the value of a class variable using one instance, the change will be reflected in all other instances as well. They are typically used for attributes that are common to all objects of a class.\n",
        "\n",
        "*   **Instance Variables:** These variables are defined within the methods of a class, typically in the `__init__` constructor, using the `self` keyword (e.g., `self.variable_name`). Each instance of the class has its own copy of instance variables. Changes made to an instance variable in one object do not affect the instance variables in other objects. They are used to store data that is unique to each object."
      ]
    },
    {
      "cell_type": "markdown",
      "source": [
        "18.What is multiple inheritance in Python ?"
      ],
      "metadata": {
        "id": "oDhVGdtqenu6"
      }
    },
    {
      "cell_type": "markdown",
      "metadata": {
        "id": "70793969"
      },
      "source": [
        "Multiple inheritance is a feature in object-oriented programming where a class can inherit properties and behaviors from more than one parent class. In Python, a class can inherit from multiple base classes by listing them in the class definition's parentheses, separated by commas.\n",
        "\n",
        "While powerful, multiple inheritance can sometimes lead to complex scenarios, such as the \"diamond problem,\" where a class inherits from two classes that have a common ancestor, and there's a conflict in method resolution. Python uses the Method Resolution Order (MRO) to determine the order in which base classes are searched when a method is called on an object of a class with multiple inheritance. You can view the MRO of a class using the `.mro()` method or the `__mro__` attribute."
      ]
    },
    {
      "cell_type": "markdown",
      "source": [
        "19.  Explain the purpose of ‘’__str__’ and ‘__repr__’ ‘ methods in Python ."
      ],
      "metadata": {
        "id": "UqnU6OTie0Uv"
      }
    },
    {
      "cell_type": "markdown",
      "metadata": {
        "id": "2b5d4181"
      },
      "source": [
        "In Python, `__str__` and `__repr__` are special dunder methods that define how an object is represented as a string. They serve different purposes and are used in different contexts:\n",
        "\n",
        "*   **`__str__(self)`**: This method is called by the `str()` built-in function and by the `print()` function to compute the \"informal\" or nicely printable string representation of an object. It's intended for creating output that is readable for end-users. If you don't define `__str__`, Python will use `__repr__` as a fallback.\n",
        "\n",
        "*   **`__repr__(self)`**: This method is called by the `repr()` built-in function and is the default representation used in the interactive interpreter when you simply type the object's name. It's intended to be an \"official\" representation that is unambiguous and, if possible, should look like a valid Python expression that could be used to recreate the object. If you don't define `__repr__`, Python will provide a default representation that shows the object's type and memory address.\n",
        "\n",
        "In summary, `__str__` is for creating human-readable output, while `__repr__` is for creating a developer-friendly, unambiguous representation. It's often recommended to define both, and if you only define one, it's generally better to define `__repr__`."
      ]
    },
    {
      "cell_type": "markdown",
      "source": [
        "20. What is the significance of the ‘super()’ function in Python ?"
      ],
      "metadata": {
        "id": "HcnesJF2fAjH"
      }
    },
    {
      "cell_type": "markdown",
      "metadata": {
        "id": "6867200a"
      },
      "source": [
        "In Python, the `super()` function is used to refer to the parent class (or superclass) of the class in which `super()` is called. It has a few key significances in the context of inheritance:\n",
        "\n",
        "*   **Calling Parent Class Methods:** The primary use of `super()` is to call methods of the parent class from within the child class. This is particularly useful when you override a method in the child class but still want to execute the original implementation from the parent class. For example, you often use `super().__init__()` in the child class's constructor to call the parent class's constructor and initialize attributes defined in the parent.\n",
        "*   **Accessing Parent Class Attributes:** While less common, `super()` can also be used to access attributes of the parent class.\n",
        "*   **Working with Multiple Inheritance:** In scenarios with multiple inheritance, `super()` helps in correctly navigating the Method Resolution Order (MRO) to ensure that methods are called in the correct order from the parent classes. It allows you to avoid explicitly naming the parent classes and makes your code more maintainable if the inheritance hierarchy changes.\n",
        "\n",
        "In essence, `super()` provides a way to delegate calls to the parent class, making inheritance more manageable and flexible, especially in complex class hierarchies."
      ]
    },
    {
      "cell_type": "markdown",
      "source": [
        "21.What is the significance of the __del__ method in Python ?\n",
        ". In Python, the __del__(self) method, also known as the destructor, is a special dunder method that is called when an object's reference count drops to zero, and it is about to be garbage collected by the Python interpreter.\n",
        "\n",
        "The significance of __del__ lies in its ability to perform cleanup operations or release resources that an object might be holding onto before it is destroyed. This can include:\n",
        "\n",
        "Closing file handles.\n",
        "Closing network connections.\n",
        "Releasing locks or other system resources.\n",
        "Performing any other necessary finalization steps.\n",
        "However, it's important to note a few things about __del__:\n",
        "\n",
        "Unpredictable Execution: The exact timing of when __del__ is called is not guaranteed. Python's garbage collector determines when an object is no longer needed and can be collected, and this can vary.\n",
        "Potential Issues: Using __del__ can sometimes lead to complexities, especially in scenarios involving circular references or exceptions during the execution of __del__.\n",
        "Better Alternatives: For reliable resource management, it's often better to use context managers (with the with statement) or explicit cleanup methods rather than relying solely on __del__.\n",
        "In summary, __del__ is primarily used for cleanup and resource release, but its unpredictable execution timing and potential for issues mean it should be used with caution and often avoided in favor of more explicit resource management techniques.\n",
        "\n"
      ],
      "metadata": {
        "id": "oQUWosyKg3GU"
      }
    },
    {
      "cell_type": "markdown",
      "metadata": {
        "id": "7df61eac"
      },
      "source": [
        "22. What is the difference between @staticmethod and @classmethod in Python ?\n",
        "\n",
        "In Python, `@staticmethod` and `@classmethod` are decorators used to define different types of methods within a class:\n",
        "\n",
        "*   **`@classmethod`**: These methods are bound to the class and receive the class itself as the first argument, conventionally named `cls`. They can access and modify class-level attributes and are often used for factory methods that create instances of the class in different ways.\n",
        "\n",
        "*   **`@staticmethod`**: These methods are not bound to either the instance or the class. They do not receive an implicit first argument (like `self` or `cls`). They are essentially regular functions that are logically grouped within a class, often because they relate to the class's functionality but don't need access to the instance or class state. They are typically used for utility functions that don't operate on specific instances or the class itself.\n",
        "\n",
        "The key difference lies in the first argument they receive: `@classmethod` receives the class (`cls`), while `@staticmethod` receives no implicit first argument."
      ]
    },
    {
      "cell_type": "markdown",
      "source": [
        "23.  How does polymorphism work in Python with inheritance ?"
      ],
      "metadata": {
        "id": "pk8ExoUrftfq"
      }
    },
    {
      "cell_type": "markdown",
      "metadata": {
        "id": "e5ed31ec"
      },
      "source": [
        "In Python, polymorphism works with inheritance by allowing you to treat objects of different classes as if they were objects of a common superclass. This is possible because:\n",
        "\n",
        "1.  **Method Overriding:** A subclass can provide its own implementation of a method that is already defined in its superclass. When you call that method on an object of the subclass, the subclass's version is executed.\n",
        "2.  **Common Interface:** If multiple subclasses inherit from a common superclass and override the same method, they all share a common method signature. This allows you to write code that can call this method on any object of these subclasses without needing to know the specific type of the object at compile time.\n",
        "\n",
        "For example, if you have a `Animal` superclass with a `speak()` method, and subclasses like `Dog` and `Cat` that override `speak()` to produce different sounds, you can have a list of `Animal` objects (which might contain `Dog` and `Cat` instances). When you iterate through the list and call `speak()` on each object, the appropriate `speak()` method (from `Dog` or `Cat`) will be called dynamically based on the actual type of the object. This demonstrates polymorphism in action – the same method call (`speak()`) behaves differently depending on the object it's called on."
      ]
    },
    {
      "cell_type": "markdown",
      "source": [
        "24.  What is method chaining in Python OOp ?"
      ],
      "metadata": {
        "id": "biiy8jcOf7VI"
      }
    },
    {
      "cell_type": "markdown",
      "metadata": {
        "id": "15326175"
      },
      "source": [
        "Method chaining is a programming technique in which multiple method calls are chained together on a single object in a single expression. This is possible when each method in the chain returns the object itself (or another object that can be chained). It allows for more concise and readable code when performing a sequence of operations on an object.\n",
        "\n",
        "In Python, method chaining is commonly used with libraries like pandas, where many methods of DataFrame and Series objects return the modified object, allowing you to chain multiple data manipulation operations together.\n",
        "\n",
        "**Example:**"
      ]
    },
    {
      "cell_type": "markdown",
      "source": [
        "25.  What is the purpose of the __call__ method in Python ?"
      ],
      "metadata": {
        "id": "1hSI1_7GhTK1"
      }
    },
    {
      "cell_type": "markdown",
      "metadata": {
        "id": "f09aacc2"
      },
      "source": [
        "In Python, the `__call__(self, *args, **kwargs)` method is a special dunder method that makes an instance of a class callable like a function. When this method is defined in a class, you can call an object of that class directly using parentheses `()`, passing any arguments you would normally pass to a function.\n",
        "\n",
        "The purpose of the `__call__` method is to create objects that behave like functions or to provide a convenient way to execute a primary action associated with an object. This can be useful for:\n",
        "\n",
        "*   **Creating function-like objects:** You can create objects that maintain state and still be called like functions.\n",
        "*   **Implementing decorators:** The `__call__` method is often used when creating decorators as classes.\n",
        "*   **Defining objects that perform a default action:** If an object's main purpose is to perform a specific action, you can implement `__call__` to make that action the default behavior when the object is called.\n",
        "\n",
        "In essence, `__call__` allows you to add callable behavior to instances of your classes, providing a flexible way to design objects that can be used in a function-like manner."
      ]
    },
    {
      "cell_type": "markdown",
      "source": [
        "#Practical Questions"
      ],
      "metadata": {
        "id": "xgDC_bC6hbVV"
      }
    },
    {
      "cell_type": "markdown",
      "source": [
        "1. Create a parent class Animal with a method speak() that prints a generic message. Create a child class Dog\n",
        "that overrides the speak() method to print \"Bark!\"."
      ],
      "metadata": {
        "id": "M47MwiPshgR3"
      }
    },
    {
      "cell_type": "code",
      "metadata": {
        "colab": {
          "base_uri": "https://localhost:8080/"
        },
        "id": "bc19f9e5",
        "outputId": "2d5a2abe-fb6a-4dd1-aa9b-94627092b102"
      },
      "source": [
        "class Animal:\n",
        "    def speak(self):\n",
        "        print(\"Generic animal sound\")\n",
        "\n",
        "class Dog(Animal):\n",
        "    def speak(self):\n",
        "        print(\"Bark!\")\n",
        "\n",
        "# Example usage:\n",
        "animal = Animal()\n",
        "animal.speak()\n",
        "\n",
        "dog = Dog()\n",
        "dog.speak()"
      ],
      "execution_count": 1,
      "outputs": [
        {
          "output_type": "stream",
          "name": "stdout",
          "text": [
            "Generic animal sound\n",
            "Bark!\n"
          ]
        }
      ]
    },
    {
      "cell_type": "markdown",
      "source": [
        "2.. Write a program to create an abstract class Shape with a method area(). Derive classes Circle and Rectangle\n",
        "from it and implement the area() method in both."
      ],
      "metadata": {
        "id": "0DQsecfKhrNk"
      }
    },
    {
      "cell_type": "code",
      "metadata": {
        "colab": {
          "base_uri": "https://localhost:8080/"
        },
        "id": "97d797cb",
        "outputId": "46861536-6d8b-4441-cf2f-f42b22f29134"
      },
      "source": [
        "from abc import ABC, abstractmethod\n",
        "import math\n",
        "\n",
        "class Shape(ABC):\n",
        "    @abstractmethod\n",
        "    def area(self):\n",
        "        pass\n",
        "\n",
        "class Circle(Shape):\n",
        "    def __init__(self, radius):\n",
        "        self.radius = radius\n",
        "\n",
        "    def area(self):\n",
        "        return math.pi * self.radius**2\n",
        "\n",
        "class Rectangle(Shape):\n",
        "    def __init__(self, width, height):\n",
        "        self.width = width\n",
        "        self.height = height\n",
        "\n",
        "    def area(self):\n",
        "        return self.width * self.height\n",
        "\n",
        "# Example usage:\n",
        "# shape = Shape() # This would raise a TypeError as Shape is an abstract class\n",
        "\n",
        "circle = Circle(5)\n",
        "print(f\"Area of Circle: {circle.area()}\")\n",
        "\n",
        "rectangle = Rectangle(4, 6)\n",
        "print(f\"Area of Rectangle: {rectangle.area()}\")"
      ],
      "execution_count": 2,
      "outputs": [
        {
          "output_type": "stream",
          "name": "stdout",
          "text": [
            "Area of Circle: 78.53981633974483\n",
            "Area of Rectangle: 24\n"
          ]
        }
      ]
    },
    {
      "cell_type": "markdown",
      "source": [
        "3. Implement a multi-level inheritance scenario where a class Vehicle has an attribute type. Derive a class Car\n",
        "and further derive a class ElectricCar that adds a battery attribute"
      ],
      "metadata": {
        "id": "aJfar88ehyF3"
      }
    },
    {
      "cell_type": "code",
      "metadata": {
        "colab": {
          "base_uri": "https://localhost:8080/"
        },
        "id": "6fb511d0",
        "outputId": "03a4f6f4-7acf-4fb5-80d2-d866aa53cb34"
      },
      "source": [
        "class Vehicle:\n",
        "    def __init__(self, vehicle_type):\n",
        "        self.type = vehicle_type\n",
        "\n",
        "class Car(Vehicle):\n",
        "    def __init__(self, vehicle_type, model):\n",
        "        super().__init__(vehicle_type)\n",
        "        self.model = model\n",
        "\n",
        "class ElectricCar(Car):\n",
        "    def __init__(self, vehicle_type, model, battery_capacity):\n",
        "        super().__init__(vehicle_type, model)\n",
        "        self.battery = battery_capacity\n",
        "\n",
        "# Example usage:\n",
        "vehicle = Vehicle(\"Generic Vehicle\")\n",
        "print(f\"Vehicle Type: {vehicle.type}\")\n",
        "\n",
        "car = Car(\"Sedan\", \"Toyota Camry\")\n",
        "print(f\"Car Type: {car.type}, Model: {car.model}\")\n",
        "\n",
        "electric_car = ElectricCar(\"Sedan\", \"Tesla Model 3\", \"75 kWh\")\n",
        "print(f\"Electric Car Type: {electric_car.type}, Model: {electric_car.model}, Battery: {electric_car.battery}\")"
      ],
      "execution_count": 3,
      "outputs": [
        {
          "output_type": "stream",
          "name": "stdout",
          "text": [
            "Vehicle Type: Generic Vehicle\n",
            "Car Type: Sedan, Model: Toyota Camry\n",
            "Electric Car Type: Sedan, Model: Tesla Model 3, Battery: 75 kWh\n"
          ]
        }
      ]
    },
    {
      "cell_type": "markdown",
      "source": [
        "4.Demonstrate polymorphism by creating a base class Bird with a method fly(). Create two derived classes\n",
        "Sparrow and Penguin that override the fly() method."
      ],
      "metadata": {
        "id": "KnJe9UNJh32M"
      }
    },
    {
      "cell_type": "code",
      "metadata": {
        "colab": {
          "base_uri": "https://localhost:8080/"
        },
        "id": "eeb319d4",
        "outputId": "26baa9ba-eb3b-4099-a1e8-74393d88d0a3"
      },
      "source": [
        "class Bird:\n",
        "    def fly(self):\n",
        "        print(\"Most birds can fly\")\n",
        "\n",
        "class Sparrow(Bird):\n",
        "    def fly(self):\n",
        "        print(\"Sparrows can fly\")\n",
        "\n",
        "class Penguin(Bird):\n",
        "    def fly(self):\n",
        "        print(\"Penguins cannot fly, they swim!\")\n",
        "\n",
        "# Demonstrate polymorphism\n",
        "birds = [Bird(), Sparrow(), Penguin()]\n",
        "\n",
        "for bird in birds:\n",
        "    bird.fly()"
      ],
      "execution_count": 4,
      "outputs": [
        {
          "output_type": "stream",
          "name": "stdout",
          "text": [
            "Most birds can fly\n",
            "Sparrows can fly\n",
            "Penguins cannot fly, they swim!\n"
          ]
        }
      ]
    },
    {
      "cell_type": "markdown",
      "source": [
        "5. Write a program to demonstrate encapsulation by creating a class BankAccount with private attributes\n",
        "balance and methods to deposit, withdraw, and check balance."
      ],
      "metadata": {
        "id": "-DVb3USUh8zH"
      }
    },
    {
      "cell_type": "code",
      "metadata": {
        "colab": {
          "base_uri": "https://localhost:8080/"
        },
        "id": "24b208e6",
        "outputId": "26728368-54b3-4178-a923-efba1d7a5d01"
      },
      "source": [
        "class BankAccount:\n",
        "    def __init__(self, initial_balance=0):\n",
        "        # Using double underscore for name mangling to indicate private attribute\n",
        "        self.__balance = initial_balance\n",
        "\n",
        "    def deposit(self, amount):\n",
        "        if amount > 0:\n",
        "            self.__balance += amount\n",
        "            print(f\"Deposited: ${amount}. New balance: ${self.__balance}\")\n",
        "        else:\n",
        "            print(\"Deposit amount must be positive.\")\n",
        "\n",
        "    def withdraw(self, amount):\n",
        "        if amount > 0:\n",
        "            if self.__balance >= amount:\n",
        "                self.__balance -= amount\n",
        "                print(f\"Withdrew: ${amount}. New balance: ${self.__balance}\")\n",
        "            else:\n",
        "                print(\"Insufficient funds.\")\n",
        "        else:\n",
        "            print(\"Withdrawal amount must be positive.\")\n",
        "\n",
        "    def get_balance(self):\n",
        "        return self.__balance\n",
        "\n",
        "# Example usage:\n",
        "account = BankAccount(1000)\n",
        "account.deposit(500)\n",
        "account.withdraw(200)\n",
        "account.withdraw(1500) # This will result in insufficient funds\n",
        "\n",
        "print(f\"Current balance: ${account.get_balance()}\")\n",
        "\n",
        "# Attempting to access the private attribute directly (will result in an AttributeError)\n",
        "# print(account.__balance)"
      ],
      "execution_count": 5,
      "outputs": [
        {
          "output_type": "stream",
          "name": "stdout",
          "text": [
            "Deposited: $500. New balance: $1500\n",
            "Withdrew: $200. New balance: $1300\n",
            "Insufficient funds.\n",
            "Current balance: $1300\n"
          ]
        }
      ]
    },
    {
      "cell_type": "markdown",
      "source": [
        "6.  Demonstrate runtime polymorphism using a method play() in a base class Instrument. Derive classes Guitar\n",
        "and Piano that implement their own version of play()."
      ],
      "metadata": {
        "id": "jl1nBLs6iCRC"
      }
    },
    {
      "cell_type": "code",
      "metadata": {
        "colab": {
          "base_uri": "https://localhost:8080/"
        },
        "id": "1c9ae882",
        "outputId": "7da029c7-8edb-4bcc-e5a7-e1137ee96580"
      },
      "source": [
        "class Instrument:\n",
        "    def play(self):\n",
        "        print(\"Playing a generic instrument sound\")\n",
        "\n",
        "class Guitar(Instrument):\n",
        "    def play(self):\n",
        "        print(\"Strumming the guitar\")\n",
        "\n",
        "class Piano(Instrument):\n",
        "    def play(self):\n",
        "        print(\"Playing the piano keys\")\n",
        "\n",
        "# Demonstrate runtime polymorphism\n",
        "instruments = [Instrument(), Guitar(), Piano()]\n",
        "\n",
        "for instrument in instruments:\n",
        "    instrument.play()"
      ],
      "execution_count": 6,
      "outputs": [
        {
          "output_type": "stream",
          "name": "stdout",
          "text": [
            "Playing a generic instrument sound\n",
            "Strumming the guitar\n",
            "Playing the piano keys\n"
          ]
        }
      ]
    },
    {
      "cell_type": "markdown",
      "source": [
        "7.  Create a class MathOperations with a class method add_numbers() to add two numbers and a static\n",
        "method subtract_numbers() to subtract two numbers"
      ],
      "metadata": {
        "id": "d8NG4uibiG_j"
      }
    },
    {
      "cell_type": "code",
      "metadata": {
        "colab": {
          "base_uri": "https://localhost:8080/"
        },
        "id": "5235ff1e",
        "outputId": "3d7cfc28-e10d-492d-ccdd-31097125adcf"
      },
      "source": [
        "class MathOperations:\n",
        "    @classmethod\n",
        "    def add_numbers(cls, num1, num2):\n",
        "        return num1 + num2\n",
        "\n",
        "    @staticmethod\n",
        "    def subtract_numbers(num1, num2):\n",
        "        return num1 - num2\n",
        "\n",
        "# Example usage:\n",
        "sum_result = MathOperations.add_numbers(10, 5)\n",
        "print(f\"Sum: {sum_result}\")\n",
        "\n",
        "difference_result = MathOperations.subtract_numbers(10, 5)\n",
        "print(f\"Difference: {difference_result}\")"
      ],
      "execution_count": 7,
      "outputs": [
        {
          "output_type": "stream",
          "name": "stdout",
          "text": [
            "Sum: 15\n",
            "Difference: 5\n"
          ]
        }
      ]
    },
    {
      "cell_type": "markdown",
      "source": [
        "8. Implement a class Person with a class method to count the total number of persons created."
      ],
      "metadata": {
        "id": "WFVIxTWuiN6D"
      }
    },
    {
      "cell_type": "code",
      "metadata": {
        "colab": {
          "base_uri": "https://localhost:8080/"
        },
        "id": "2f31343d",
        "outputId": "c0438d2e-05f5-4498-c46a-b66fb5c02a6b"
      },
      "source": [
        "class Person:\n",
        "    total_persons = 0  # Class variable to keep track of the number of instances\n",
        "\n",
        "    def __init__(self, name):\n",
        "        self.name = name\n",
        "        Person.total_persons += 1 # Increment the class variable when a new instance is created\n",
        "\n",
        "    @classmethod\n",
        "    def count_persons(cls):\n",
        "        return cls.total_persons\n",
        "\n",
        "# Example usage:\n",
        "person1 = Person(\"Alice\")\n",
        "person2 = Person(\"Bob\")\n",
        "person3 = Person(\"Charlie\")\n",
        "\n",
        "print(f\"Total number of persons created: {Person.count_persons()}\")"
      ],
      "execution_count": 8,
      "outputs": [
        {
          "output_type": "stream",
          "name": "stdout",
          "text": [
            "Total number of persons created: 3\n"
          ]
        }
      ]
    },
    {
      "cell_type": "markdown",
      "source": [
        "9.  Write a class Fraction with attributes numerator and denominator. Override the str method to display the\n",
        "fraction as \"numerator/denominator\""
      ],
      "metadata": {
        "id": "C0UfwkI6iTXn"
      }
    },
    {
      "cell_type": "code",
      "metadata": {
        "colab": {
          "base_uri": "https://localhost:8080/"
        },
        "id": "adfb9547",
        "outputId": "4282465d-5954-4b93-ea5a-340cec95a41e"
      },
      "source": [
        "class Fraction:\n",
        "    def __init__(self, numerator, denominator):\n",
        "        self.numerator = numerator\n",
        "        self.denominator = denominator\n",
        "\n",
        "    def __str__(self):\n",
        "        return f\"{self.numerator}/{self.denominator}\"\n",
        "\n",
        "# Example usage:\n",
        "fraction1 = Fraction(3, 4)\n",
        "print(fraction1)\n",
        "\n",
        "fraction2 = Fraction(1, 2)\n",
        "print(str(fraction2))"
      ],
      "execution_count": 9,
      "outputs": [
        {
          "output_type": "stream",
          "name": "stdout",
          "text": [
            "3/4\n",
            "1/2\n"
          ]
        }
      ]
    },
    {
      "cell_type": "markdown",
      "source": [
        "10 . Demonstrate operator overloading by creating a class Vector and overriding the add method to add two\n",
        "vectors."
      ],
      "metadata": {
        "id": "HT0D_9xBiXBW"
      }
    },
    {
      "cell_type": "code",
      "metadata": {
        "colab": {
          "base_uri": "https://localhost:8080/"
        },
        "id": "72d86036",
        "outputId": "a20bfbe0-79ab-471c-dd0e-f33313bf5a90"
      },
      "source": [
        "class Vector:\n",
        "    def __init__(self, x, y):\n",
        "        self.x = x\n",
        "        self.y = y\n",
        "\n",
        "    def __str__(self):\n",
        "        return f\"Vector({self.x}, {self.y})\"\n",
        "\n",
        "    def __add__(self, other):\n",
        "        if isinstance(other, Vector):\n",
        "            return Vector(self.x + other.x, self.y + other.y)\n",
        "        else:\n",
        "            raise TypeError(\"Unsupported operand type for +: 'Vector' and '{}'\".format(type(other).__name__))\n",
        "\n",
        "# Example usage:\n",
        "vector1 = Vector(2, 3)\n",
        "vector2 = Vector(1, 5)\n",
        "\n",
        "vector3 = vector1 + vector2\n",
        "print(vector3)\n",
        "\n",
        "# Attempting to add a vector and a non-vector (will raise a TypeError)\n",
        "# result = vector1 + 10"
      ],
      "execution_count": 10,
      "outputs": [
        {
          "output_type": "stream",
          "name": "stdout",
          "text": [
            "Vector(3, 8)\n"
          ]
        }
      ]
    },
    {
      "cell_type": "markdown",
      "source": [
        "11.Create a class Person with attributes name and age. Add a method greet() that prints \"Hello, my name is\n",
        "{name} and I am {age} years old.\""
      ],
      "metadata": {
        "id": "94U0yckdieMj"
      }
    },
    {
      "cell_type": "code",
      "metadata": {
        "colab": {
          "base_uri": "https://localhost:8080/"
        },
        "id": "edcd87e4",
        "outputId": "f8c62205-ae72-4a55-9084-8339f5bb1483"
      },
      "source": [
        "class Person:\n",
        "    def __init__(self, name, age):\n",
        "        self.name = name\n",
        "        self.age = age\n",
        "\n",
        "    def greet(self):\n",
        "        print(f\"Hello, my name is {self.name} and I am {self.age} years old.\")\n",
        "\n",
        "# Example usage:\n",
        "person1 = Person(\"Alice\", 30)\n",
        "person1.greet()\n",
        "\n",
        "person2 = Person(\"Bob\", 25)\n",
        "person2.greet()"
      ],
      "execution_count": 11,
      "outputs": [
        {
          "output_type": "stream",
          "name": "stdout",
          "text": [
            "Hello, my name is Alice and I am 30 years old.\n",
            "Hello, my name is Bob and I am 25 years old.\n"
          ]
        }
      ]
    },
    {
      "cell_type": "markdown",
      "source": [
        "12. . Implement a class Student with attributes name and grades. Create a method average_grade() to compute\n",
        "the average of the grades"
      ],
      "metadata": {
        "id": "m9xZu_GQikcF"
      }
    },
    {
      "cell_type": "code",
      "metadata": {
        "colab": {
          "base_uri": "https://localhost:8080/"
        },
        "id": "1200f5e4",
        "outputId": "b15adc2a-4837-4e97-dce4-e48a473018a3"
      },
      "source": [
        "class Student:\n",
        "    def __init__(self, name, grades):\n",
        "        self.name = name\n",
        "        self.grades = grades\n",
        "\n",
        "    def average_grade(self):\n",
        "        if not self.grades:\n",
        "            return 0\n",
        "        return sum(self.grades) / len(self.grades)\n",
        "\n",
        "# Example usage:\n",
        "student1 = Student(\"Alice\", [85, 90, 92, 88])\n",
        "print(f\"{student1.name}'s average grade: {student1.average_grade()}\")\n",
        "\n",
        "student2 = Student(\"Bob\", [78, 81, 75])\n",
        "print(f\"{student2.name}'s average grade: {student2.average_grade()}\")\n",
        "\n",
        "student3 = Student(\"Charlie\", [])\n",
        "print(f\"{student3.name}'s average grade: {student3.average_grade()}\")"
      ],
      "execution_count": 12,
      "outputs": [
        {
          "output_type": "stream",
          "name": "stdout",
          "text": [
            "Alice's average grade: 88.75\n",
            "Bob's average grade: 78.0\n",
            "Charlie's average grade: 0\n"
          ]
        }
      ]
    },
    {
      "cell_type": "markdown",
      "source": [
        "13.  Create a class Rectangle with methods set_dimensions() to set the dimensions and area() to calculate the\n",
        "area."
      ],
      "metadata": {
        "id": "5LBaA3AWiozq"
      }
    },
    {
      "cell_type": "code",
      "metadata": {
        "colab": {
          "base_uri": "https://localhost:8080/"
        },
        "id": "b38ad2c3",
        "outputId": "5e485bec-e8d3-4581-f9cb-31e512bd063a"
      },
      "source": [
        "class Rectangle:\n",
        "    def __init__(self):\n",
        "        self.length = 0\n",
        "        self.width = 0\n",
        "\n",
        "    def set_dimensions(self, length, width):\n",
        "        self.length = length\n",
        "        self.width = width\n",
        "\n",
        "    def area(self):\n",
        "        return self.length * self.width\n",
        "\n",
        "# Example usage:\n",
        "rectangle = Rectangle()\n",
        "rectangle.set_dimensions(5, 10)\n",
        "print(f\"The area of the rectangle is: {rectangle.area()}\")\n",
        "\n",
        "rectangle2 = Rectangle()\n",
        "rectangle2.set_dimensions(7, 3)\n",
        "print(f\"The area of the second rectangle is: {rectangle2.area()}\")"
      ],
      "execution_count": 13,
      "outputs": [
        {
          "output_type": "stream",
          "name": "stdout",
          "text": [
            "The area of the rectangle is: 50\n",
            "The area of the second rectangle is: 21\n"
          ]
        }
      ]
    },
    {
      "cell_type": "markdown",
      "source": [
        "14.  Create a class Employee with a method calculate_salary() that computes the salary based on hours worked\n",
        "and hourly rate. Create a derived class Manager that adds a bonus to the salary.\n",
        " Java + DS"
      ],
      "metadata": {
        "id": "bYtdJssLis-j"
      }
    },
    {
      "cell_type": "code",
      "metadata": {
        "colab": {
          "base_uri": "https://localhost:8080/"
        },
        "id": "de96c36e",
        "outputId": "0bcdd008-561f-4047-b6a2-cdda308befcf"
      },
      "source": [
        "class Employee:\n",
        "    def __init__(self, hours_worked, hourly_rate):\n",
        "        self.hours_worked = hours_worked\n",
        "        self.hourly_rate = hourly_rate\n",
        "\n",
        "    def calculate_salary(self):\n",
        "        return self.hours_worked * self.hourly_rate\n",
        "\n",
        "class Manager(Employee):\n",
        "    def __init__(self, hours_worked, hourly_rate, bonus):\n",
        "        super().__init__(hours_worked, hourly_rate)\n",
        "        self.bonus = bonus\n",
        "\n",
        "    def calculate_salary(self):\n",
        "        base_salary = super().calculate_salary()\n",
        "        return base_salary + self.bonus\n",
        "\n",
        "# Example usage:\n",
        "employee = Employee(40, 20)\n",
        "print(f\"Employee salary: ${employee.calculate_salary()}\")\n",
        "\n",
        "manager = Manager(40, 20, 500)\n",
        "print(f\"Manager salary: ${manager.calculate_salary()}\")"
      ],
      "execution_count": 14,
      "outputs": [
        {
          "output_type": "stream",
          "name": "stdout",
          "text": [
            "Employee salary: $800\n",
            "Manager salary: $1300\n"
          ]
        }
      ]
    },
    {
      "cell_type": "markdown",
      "source": [
        "15. Create a class Product with attributes name, price, and quantity. Implement a method total_price() that\n",
        "calculates the total price of the product."
      ],
      "metadata": {
        "id": "nOi6XICciyHA"
      }
    },
    {
      "cell_type": "code",
      "metadata": {
        "colab": {
          "base_uri": "https://localhost:8080/"
        },
        "id": "a3ef6d7b",
        "outputId": "e56edaf0-db8a-45cd-8af4-1fb01e9f9aaa"
      },
      "source": [
        "class Product:\n",
        "    def __init__(self, name, price, quantity):\n",
        "        self.name = name\n",
        "        self.price = price\n",
        "        self.quantity = quantity\n",
        "\n",
        "    def total_price(self):\n",
        "        return self.price * self.quantity\n",
        "\n",
        "# Example usage:\n",
        "product1 = Product(\"Laptop\", 1200, 1)\n",
        "print(f\"Total price for {product1.name}: ${product1.total_price()}\")\n",
        "\n",
        "product2 = Product(\"Mouse\", 25, 5)\n",
        "print(f\"Total price for {product2.name}: ${product2.total_price()}\")"
      ],
      "execution_count": 15,
      "outputs": [
        {
          "output_type": "stream",
          "name": "stdout",
          "text": [
            "Total price for Laptop: $1200\n",
            "Total price for Mouse: $125\n"
          ]
        }
      ]
    },
    {
      "cell_type": "markdown",
      "source": [
        "16.  Create a class Animal with an abstract method sound(). Create two derived classes Cow and Sheep that\n",
        "implement the sound() method"
      ],
      "metadata": {
        "id": "YnXnIyUii15W"
      }
    },
    {
      "cell_type": "code",
      "metadata": {
        "colab": {
          "base_uri": "https://localhost:8080/"
        },
        "id": "d100b14c",
        "outputId": "39d30069-b194-406d-ac79-c7cc7025415a"
      },
      "source": [
        "from abc import ABC, abstractmethod\n",
        "\n",
        "class Animal(ABC):\n",
        "    @abstractmethod\n",
        "    def sound(self):\n",
        "        pass\n",
        "\n",
        "class Cow(Animal):\n",
        "    def sound(self):\n",
        "        return \"Moo\"\n",
        "\n",
        "class Sheep(Animal):\n",
        "    def sound(self):\n",
        "        return \"Baa\"\n",
        "\n",
        "# Example usage:\n",
        "# animal = Animal() # This would raise a TypeError\n",
        "\n",
        "cow = Cow()\n",
        "print(f\"Cow says: {cow.sound()}\")\n",
        "\n",
        "sheep = Sheep()\n",
        "print(f\"Sheep says: {sheep.sound()}\")"
      ],
      "execution_count": 16,
      "outputs": [
        {
          "output_type": "stream",
          "name": "stdout",
          "text": [
            "Cow says: Moo\n",
            "Sheep says: Baa\n"
          ]
        }
      ]
    },
    {
      "cell_type": "markdown",
      "source": [
        "17.Create a class Book with attributes title, author, and year_published. Add a method get_book_info() that\n",
        "returns a formatted string with the book's details."
      ],
      "metadata": {
        "id": "MjW4W4t8i6N3"
      }
    },
    {
      "cell_type": "code",
      "metadata": {
        "colab": {
          "base_uri": "https://localhost:8080/"
        },
        "id": "0d733a64",
        "outputId": "fae40dfe-f0ea-4cea-a57f-02750e4e8bdb"
      },
      "source": [
        "class Book:\n",
        "    def __init__(self, title, author, year_published):\n",
        "        self.title = title\n",
        "        self.author = author\n",
        "        self.year_published = year_published\n",
        "\n",
        "    def get_book_info(self):\n",
        "        return f\"Title: {self.title}, Author: {self.author}, Year Published: {self.year_published}\"\n",
        "\n",
        "# Example usage:\n",
        "book1 = Book(\"The Hitchhiker's Guide to the Galaxy\", \"Douglas Adams\", 1979)\n",
        "print(book1.get_book_info())\n",
        "\n",
        "book2 = Book(\"Pride and Prejudice\", \"Jane Austen\", 1813)\n",
        "print(book2.get_book_info())"
      ],
      "execution_count": 17,
      "outputs": [
        {
          "output_type": "stream",
          "name": "stdout",
          "text": [
            "Title: The Hitchhiker's Guide to the Galaxy, Author: Douglas Adams, Year Published: 1979\n",
            "Title: Pride and Prejudice, Author: Jane Austen, Year Published: 1813\n"
          ]
        }
      ]
    },
    {
      "cell_type": "markdown",
      "source": [
        "18.  Create a class House with attributes address and price. Create a derived class Mansion that adds an\n",
        "attribute number_of_rooms"
      ],
      "metadata": {
        "id": "ktU4HT3xjMIn"
      }
    },
    {
      "cell_type": "code",
      "metadata": {
        "colab": {
          "base_uri": "https://localhost:8080/"
        },
        "id": "b1c577ba",
        "outputId": "7709502c-e773-4cdf-842c-829d7c9d0c19"
      },
      "source": [
        "class House:\n",
        "    def __init__(self, address, price):\n",
        "        self.address = address\n",
        "        self.price = price\n",
        "\n",
        "class Mansion(House):\n",
        "    def __init__(self, address, price, number_of_rooms):\n",
        "        super().__init__(address, price)\n",
        "        self.number_of_rooms = number_of_rooms\n",
        "\n",
        "# Example usage:\n",
        "house = House(\"123 Main St\", 300000)\n",
        "print(f\"House Address: {house.address}, Price: ${house.price}\")\n",
        "\n",
        "mansion = Mansion(\"456 Elm St\", 1500000, 20)\n",
        "print(f\"Mansion Address: {mansion.address}, Price: ${mansion.price}, Number of Rooms: {mansion.number_of_rooms}\")"
      ],
      "execution_count": 18,
      "outputs": [
        {
          "output_type": "stream",
          "name": "stdout",
          "text": [
            "House Address: 123 Main St, Price: $300000\n",
            "Mansion Address: 456 Elm St, Price: $1500000, Number of Rooms: 20\n"
          ]
        }
      ]
    }
  ]
}